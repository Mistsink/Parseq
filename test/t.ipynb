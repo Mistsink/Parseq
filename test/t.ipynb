{
 "cells": [
  {
   "cell_type": "code",
   "execution_count": 1,
   "metadata": {},
   "outputs": [],
   "source": [
    "import os\n",
    "import sys\n",
    "current_dir = os.getcwd()\n",
    "parent_dir = os.path.dirname(current_dir)\n",
    "sys.path.append(parent_dir)"
   ]
  },
  {
   "cell_type": "code",
   "execution_count": 2,
   "metadata": {},
   "outputs": [],
   "source": [
    "from PIL import ImageFont, Image\n",
    "from IPython.display import display\n",
    "from generator.util import load_dict\n",
    "from generator import computer_text_generator, background_generator"
   ]
  },
  {
   "cell_type": "markdown",
   "metadata": {},
   "source": [
    "## merge all dicts"
   ]
  },
  {
   "cell_type": "code",
   "execution_count": 3,
   "metadata": {},
   "outputs": [
    {
     "data": {
      "text/plain": [
       "['en.txt', 'ja.txt', 'ko.txt', 'latin.txt', 'zh_cn.txt', 'zh_tw.txt']"
      ]
     },
     "execution_count": 3,
     "metadata": {},
     "output_type": "execute_result"
    }
   ],
   "source": [
    "dicts = sorted(os.listdir('../assets/dict'))\n",
    "dicts = list(filter(lambda x: not x.startswith('merge') and x.endswith('.txt'), dicts))\n",
    "dicts"
   ]
  },
  {
   "cell_type": "code",
   "execution_count": 4,
   "metadata": {},
   "outputs": [
    {
     "data": {
      "text/plain": [
       "12824"
      ]
     },
     "execution_count": 4,
     "metadata": {},
     "output_type": "execute_result"
    }
   ],
   "source": [
    "chars = set()\n",
    "for d in dicts:\n",
    "    with open('../assets/dict/' + d, \"r\", encoding=\"utf-8\") as f:\n",
    "        lines = f.readlines()\n",
    "        charset = set([line.strip() for line in lines if line.strip()])\n",
    "    chars.update(charset)\n",
    "chars = list(chars)\n",
    "# add upper case\n",
    "chars += [c.upper() for c in chars]\n",
    "# add lower case\n",
    "chars += [c.lower() for c in chars]\n",
    "\n",
    "chars = sorted(set(chars))\n",
    "len(chars)"
   ]
  },
  {
   "cell_type": "code",
   "execution_count": 5,
   "metadata": {},
   "outputs": [],
   "source": [
    "with open('../assets/dict/merge_v1.txt', \"w\", encoding=\"utf-8\") as f:\n",
    "    f.write('\\n'.join(chars))"
   ]
  },
  {
   "cell_type": "markdown",
   "metadata": {},
   "source": [
    "## font support Char"
   ]
  },
  {
   "cell_type": "code",
   "execution_count": 50,
   "metadata": {},
   "outputs": [],
   "source": [
    "f = ImageFont.truetype(\"../assets/font/ja/shiasatte.otf\", 46)"
   ]
  },
  {
   "cell_type": "code",
   "execution_count": 51,
   "metadata": {},
   "outputs": [
    {
     "data": {
      "text/plain": [
       "<PIL.Image.Image image mode=L size=46x0>"
      ]
     },
     "metadata": {},
     "output_type": "display_data"
    }
   ],
   "source": [
    "mask = f.getmask('你')\n",
    "\n",
    "mask_image = Image.new('L', mask.size)\n",
    "mask_image.putdata(mask)\n",
    "\n",
    "# 显示蒙版图像\n",
    "display(mask_image)"
   ]
  },
  {
   "cell_type": "code",
   "execution_count": 53,
   "metadata": {},
   "outputs": [
    {
     "data": {
      "text/plain": [
       "(46, 0)"
      ]
     },
     "execution_count": 53,
     "metadata": {},
     "output_type": "execute_result"
    }
   ],
   "source": [
    "mask.size"
   ]
  },
  {
   "cell_type": "code",
   "execution_count": 14,
   "metadata": {},
   "outputs": [],
   "source": [
    "from fontTools.ttLib import TTFont"
   ]
  },
  {
   "cell_type": "code",
   "execution_count": 25,
   "metadata": {},
   "outputs": [
    {
     "data": {
      "text/plain": [
       "44032"
      ]
     },
     "execution_count": 25,
     "metadata": {},
     "output_type": "execute_result"
    }
   ],
   "source": [
    "ord('가')"
   ]
  },
  {
   "cell_type": "code",
   "execution_count": 43,
   "metadata": {},
   "outputs": [
    {
     "ename": "KeyError",
     "evalue": "20320",
     "output_type": "error",
     "traceback": [
      "\u001b[0;31m---------------------------------------------------------------------------\u001b[0m",
      "\u001b[0;31mKeyError\u001b[0m                                  Traceback (most recent call last)",
      "Cell \u001b[0;32mIn[43], line 3\u001b[0m\n\u001b[1;32m      1\u001b[0m ft \u001b[38;5;241m=\u001b[39m TTFont(\u001b[38;5;124m\"\u001b[39m\u001b[38;5;124m../assets/font/ko/나눔손글씨 나무정원.ttf\u001b[39m\u001b[38;5;124m\"\u001b[39m)\n\u001b[1;32m      2\u001b[0m l \u001b[38;5;241m=\u001b[39m ft\u001b[38;5;241m.\u001b[39mgetBestCmap()\n\u001b[0;32m----> 3\u001b[0m \u001b[43ml\u001b[49m\u001b[43m[\u001b[49m\u001b[38;5;28;43mord\u001b[39;49m\u001b[43m(\u001b[49m\u001b[38;5;124;43m'\u001b[39;49m\u001b[38;5;124;43m你\u001b[39;49m\u001b[38;5;124;43m'\u001b[39;49m\u001b[43m)\u001b[49m\u001b[43m]\u001b[49m\n",
      "\u001b[0;31mKeyError\u001b[0m: 20320"
     ]
    }
   ],
   "source": [
    "ft = TTFont(\"../assets/font/ko/나눔손글씨 나무정원.ttf\")\n",
    "l = ft.getBestCmap()\n",
    "l[ord('你')]"
   ]
  },
  {
   "cell_type": "code",
   "execution_count": 44,
   "metadata": {},
   "outputs": [
    {
     "data": {
      "text/plain": [
       "True"
      ]
     },
     "execution_count": 44,
     "metadata": {},
     "output_type": "execute_result"
    }
   ],
   "source": [
    "'uniC528' in ft['glyf']"
   ]
  },
  {
   "cell_type": "code",
   "execution_count": 22,
   "metadata": {},
   "outputs": [
    {
     "data": {
      "text/plain": [
       "False"
      ]
     },
     "execution_count": 22,
     "metadata": {},
     "output_type": "execute_result"
    }
   ],
   "source": [
    "'씨' in l"
   ]
  },
  {
   "cell_type": "code",
   "execution_count": 4,
   "metadata": {},
   "outputs": [],
   "source": [
    "t = os.listdir('../assets/font/en')"
   ]
  },
  {
   "cell_type": "code",
   "execution_count": null,
   "metadata": {},
   "outputs": [],
   "source": [
    "i = -1"
   ]
  },
  {
   "cell_type": "code",
   "execution_count": 21,
   "metadata": {},
   "outputs": [
    {
     "name": "stdout",
     "output_type": "stream",
     "text": [
      "../assets/font/en/Kalam-Regular.ttf Kalam-Regular.ttf\n"
     ]
    }
   ],
   "source": [
    "i += 1\n",
    "f = f'../assets/font/en/{t[i]}'\n",
    "print(f, t[i])"
   ]
  },
  {
   "cell_type": "code",
   "execution_count": 22,
   "metadata": {},
   "outputs": [
    {
     "data": {
      "image/png": "[encoded data removed]",
      "text/plain": [
       "<PIL.Image.Image image mode=RGBA size=444x42>"
      ]
     },
     "metadata": {},
     "output_type": "display_data"
    }
   ],
   "source": [
    "s = 'abc á, é, í, ó, ú ñ ¿ ¡rtù, menù'\n",
    "image, mask = computer_text_generator.generate(\n",
    "                    s,\n",
    "                    f,\n",
    "                    '#282828',\n",
    "                    32,\n",
    "                    0,\n",
    "                    1,\n",
    "                    1,\n",
    "                    0,\n",
    "                    False,\n",
    "                    0,\n",
    "                    '#ffffff',\n",
    "                )\n",
    "bg = background_generator.plain_white(image.height, image.width)\n",
    "bg.paste(image, (0, 0), image)\n",
    "display(bg)"
   ]
  }
 ],
 "metadata": {
  "kernelspec": {
   "display_name": "Python 3",
   "language": "python",
   "name": "python3"
  },
  "language_info": {
   "codemirror_mode": {
    "name": "ipython",
    "version": 3
   },
   "file_extension": ".py",
   "mimetype": "text/x-python",
   "name": "python",
   "nbconvert_exporter": "python",
   "pygments_lexer": "ipython3",
   "version": "3.12.4"
  }
 },
 "nbformat": 4,
 "nbformat_minor": 2
}
